{
 "cells": [
  {
   "cell_type": "code",
   "execution_count": 22,
   "metadata": {},
   "outputs": [],
   "source": [
    "# Library for 7Zip\n",
    "import py7zr\n",
    "import os\n",
    "\n",
    "# Used for retrieving the available stadiums.\n",
    "def retrievelist(path):\n",
    "    # listdir yerine scandir kullandık. os.listdir(path) bir str outputu verecekti. os.scandir(path) ise bize bir liste verdi\n",
    "    # Burada eğer os.scandir(path) sonucu, is_dir ise yani bir klasörse, klasörün adını (f.name) verecek.\n",
    "    list = ([f.name for f in os.scandir(path) if f.is_dir()])\n",
    "    return list\n",
    "    # Yukarıdaki satır buna denk geliyor. Ama bu şekilde yaptığımızda sadece 1 output alıyoruz. Ama biz hepsini istiyoruz.\n",
    "    # for f in os.scandir(path):\n",
    "    #     if f.is_dir() == True:\n",
    "    #         return f.name\n",
    "\n",
    "# Harika! Kişi sadece klasörün yerini söyleyecek.\n",
    "\n",
    "# Used for packing a folder with a parent folder. mode r is for read. w is for write\n",
    "def pack(list):\n",
    "    for ID in list:\n",
    "        if ID.startswith(\"0001\") == True:\n",
    "            with py7zr.SevenZipFile(f'{ID}.7z', mode = \"w\") as archive:\n",
    "                archive.writeall(f\"{ID}\", f\"data\\stadium\\FIFA\\{ID}\")\n",
    "# # Used for extracting a folder.\n",
    "# def unpack(ID):\n",
    "#     with py7zr.SevenZipFile(f\"{ID}.7z\", mode=\"r\") as archive:\n",
    "#         archive.extractall()\n",
    "\n",
    "if __name__ == \"__main__\":\n",
    "    path=input(\"Specify the folder that you installed the game\")\n",
    "    list = retrievelist(path)\n",
    "    export = pack(list)"
   ]
  },
  {
   "cell_type": "code",
   "execution_count": null,
   "metadata": {},
   "outputs": [],
   "source": [
    "# Notlar\n",
    "    # listdir yerine scandir kullandık. os.listdir(path) bir str outputu verecekti. os.scandir(path) ise bize iterator verdi\n",
    "    # Burada eğer os.scandir(path) sonucu, is_dir ise yani bir klasörse, klasörün adını (f.name) verecek.\n",
    "    return [f.name for f in os.scandir(path+\"\\data\\stadium\\FIFA\") if f.is_dir()]\n",
    "    # Yukarıdaki satır buna denk geliyor. Ama bu şekilde yaptığımızda sadece 1 output alıyoruz. Ama biz hepsini istiyoruz.\n",
    "    # for f in os.scandir(path):\n",
    "    #     if f.is_dir() == True:\n",
    "    #         return f.name"
   ]
  }
 ],
 "metadata": {
  "interpreter": {
   "hash": "8a48770bb3c76ada6ec5eec9b53a504a3323976b81e1d1b6d1fc077cb2f95093"
  },
  "kernelspec": {
   "display_name": "Python 3.10.1 64-bit",
   "language": "python",
   "name": "python3"
  },
  "language_info": {
   "codemirror_mode": {
    "name": "ipython",
    "version": 3
   },
   "file_extension": ".py",
   "mimetype": "text/x-python",
   "name": "python",
   "nbconvert_exporter": "python",
   "pygments_lexer": "ipython3",
   "version": "3.10.1"
  },
  "orig_nbformat": 4
 },
 "nbformat": 4,
 "nbformat_minor": 2
}
