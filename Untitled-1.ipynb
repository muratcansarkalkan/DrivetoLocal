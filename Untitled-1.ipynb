{
 "cells": [
  {
   "cell_type": "code",
   "execution_count": 25,
   "metadata": {},
   "outputs": [],
   "source": [
    "# Library for 7Zip\n",
    "import py7zr\n",
    "import os\n",
    "\n",
    "df = pd.read_excel('TeamsMini.xlsx')\n",
    "df = df.iloc[ : , 1:]\n",
    "\n",
    "# Defines dictionary. It sets new index as team. Then takes the transpose of dataframe, converts the dataframe to dictionary. Then we have a list output, we strip it from list.\n",
    "d = (df.set_index('Team').T.to_dict('records')[0])\n",
    "\n",
    "# Used for retrieving the available stadiums.\n",
    "def retrievelist(pathnew):\n",
    "    # listdir yerine scandir kullandık. os.listdir(path) bir str outputu verecekti. os.scandir(path) ise bize bir liste verdi\n",
    "    # Burada eğer os.scandir(path) sonucu, is_dir ise yani bir klasörse, klasörün adını (f.name) verecek.\n",
    "    list = ([f.name for f in os.scandir(pathnew) if f.is_dir()])\n",
    "    return list\n",
    "    # Yukarıdaki satır buna denk geliyor. Ama bu şekilde yaptığımızda sadece 1 output alıyoruz. Ama biz hepsini istiyoruz.\n",
    "    # for f in os.scandir(path):\n",
    "    #     if f.is_dir() == True:\n",
    "    #         return f.name\n",
    "\n",
    "# Harika! Kişi sadece klasörün yerini söyleyecek.\n",
    "\n",
    "# Used for packing a folder with a parent folder. mode r is for read. w is for write\n",
    "def pack(list,pathnew):\n",
    "    for ID in list:\n",
    "        # Checks if the complete.txt exists in folder.\n",
    "        if os.path.isfile(f'{pathnew}/{ID}/complete.txt') == True:\n",
    "            if os.path.exists(f'{ID}.7z') == False:\n",
    "                with py7zr.SevenZipFile(f'{ID}.7z', mode = \"w\") as archive:\n",
    "                    archive.writeall(f\"{pathnew}/{ID}\", f\"data\\stadium\\FIFA\\{ID}\")\n",
    "\n",
    "# # Used for extracting a folder.\n",
    "# def unpack(ID):\n",
    "#     with py7zr.SevenZipFile(f\"{ID}.7z\", mode=\"r\") as archive:\n",
    "#         archive.extractall()\n",
    "\n",
    "if __name__ == \"__main__\":\n",
    "    pathbase=input(\"Specify the folder that you installed the game\")\n",
    "    pathnew=pathbase+\"\\data\\stadium\\FIFA\"\n",
    "    list = retrievelist(pathnew)\n",
    "    export = pack(list,pathnew)"
   ]
  },
  {
   "cell_type": "code",
   "execution_count": 24,
   "metadata": {},
   "outputs": [
    {
     "name": "stdout",
     "output_type": "stream",
     "text": [
      "no\n"
     ]
    }
   ],
   "source": [
    "import os.path\n",
    "\n",
    "if os.path.exists(\"main.py\") == True:\n",
    "    print(\"yes\")\n",
    "else:\n",
    "    print(\"no\")"
   ]
  },
  {
   "cell_type": "code",
   "execution_count": null,
   "metadata": {},
   "outputs": [],
   "source": []
  },
  {
   "cell_type": "code",
   "execution_count": 40,
   "metadata": {},
   "outputs": [
    {
     "name": "stderr",
     "output_type": "stream",
     "text": [
      "C:\\Users\\Asus\\AppData\\Local\\Temp/ipykernel_23528/1049178372.py:7: UserWarning: DataFrame columns are not unique, some columns will be omitted.\n",
      "  d = (df.set_index('Team').T.to_dict('records')[0])\n"
     ]
    },
    {
     "name": "stdout",
     "output_type": "stream",
     "text": [
      "FK Austria Wien 00040002\n"
     ]
    }
   ],
   "source": [
    "import pandas as pd\n",
    "import os\n",
    "\n",
    "# Defines dataframe\n",
    "df = pd.read_excel('TeamsMini.xlsx')\n",
    "# Defines dictionary. It sets new index as team. Then takes the transpose of dataframe, converts the dataframe to dictionary. Then we have a list output, we strip it from list.\n",
    "d = (df.set_index('Team').T.to_dict('records')[0])\n",
    "# # Sets new index.\n",
    "# dg = df.set_index('Team')\n",
    "# print(dg)\n",
    "\n",
    "# # Takes transpose of it centered around 'team' \n",
    "# dg_trans = dg.T\n",
    "# print(dg_trans)\n",
    "\n",
    "def searchfunc(d):\n",
    "    for k,v in d.items():\n",
    "        if os.path.isfile(f'{v}/complete.txt') == True:\n",
    "            # prints key and value\n",
    "            print(k,v)            \n",
    "\n",
    "if __name__ == \"__main__\":\n",
    "    name = input(\"search?\")\n",
    "    result = searchfunc(d, name)"
   ]
  },
  {
   "cell_type": "code",
   "execution_count": 135,
   "metadata": {},
   "outputs": [
    {
     "name": "stdout",
     "output_type": "stream",
     "text": [
      "0030005F - Fenerbahce\n",
      "None\n",
      "24\n",
      "Not found\n",
      "{'name': 'John', 'courses': ['Math', 'Computer'], 'isdead': False}\n"
     ]
    }
   ],
   "source": [
    "# In dictionaries it's key, value.\n",
    "student1 = {'name': 'John', 'age': 24, 'courses': ['Math','Computer'], 'isdead': False}\n",
    "student2 = {'name': 'Matt', 'age': 27, 'courses': ['Science','Computer'], 'isdead': False}\n",
    "student3 = {'name': 'Rob', 'age': 25, 'courses': ['Math','Science'], 'isdead': False}\n",
    "teams = {'0030005F': 'Fenerbahce', '00300061': 'Galatasaray'}\n",
    "# student3['surname'] = 'Jones'\n",
    "\n",
    "# Update function is for updating values.\n",
    "# student3.update({'name': 'Jeff'})\n",
    "\n",
    "# Deletes key\n",
    "# del student1['age']\n",
    "\n",
    "# # Keys\n",
    "# for k in student:\n",
    "#     print(k)\n",
    "\n",
    "# To use both keys and values, we need .items() function\n",
    "for k, v in teams.items():\n",
    "    if v.startswith('Fen'):\n",
    "        print(k + ' - ' + v)\n",
    "\n",
    "# Pops the \"age\" key from student1. but it is not entirely deleted just separated\n",
    "age = student1.pop('age')\n",
    "\n",
    "# Instead of having an error because key/value doesn't exist, we better use get function.\n",
    "print(student1.get('age'))\n",
    "print(age)\n",
    "# For keys that don't exist, if we put a second argument, it prints that. instead of an error\n",
    "print(student2.get('surname', 'Not found'))\n",
    "\n",
    "print(student1)\n",
    "\n"
   ]
  }
 ],
 "metadata": {
  "interpreter": {
   "hash": "8a48770bb3c76ada6ec5eec9b53a504a3323976b81e1d1b6d1fc077cb2f95093"
  },
  "kernelspec": {
   "display_name": "Python 3.10.1 64-bit",
   "language": "python",
   "name": "python3"
  },
  "language_info": {
   "codemirror_mode": {
    "name": "ipython",
    "version": 3
   },
   "file_extension": ".py",
   "mimetype": "text/x-python",
   "name": "python",
   "nbconvert_exporter": "python",
   "pygments_lexer": "ipython3",
   "version": "3.10.1"
  },
  "orig_nbformat": 4
 },
 "nbformat": 4,
 "nbformat_minor": 2
}
